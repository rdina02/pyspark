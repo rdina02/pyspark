%reload_ext sparksql_magic

%config SparkSql.limit=10000

%%time
text = """
select date_id, application, application_service, session_type, vehicle_type, application_user, count(distinct msisdn)
from eureka.ftr_marketintel_user_profile
where geo_level = 'nation' and application_user = 'customer' and category = 'Ride Hailing' and metric_granularity = 'daily' and date_id between '20220620' and '20220710'
group by date_id, application, application_service, session_type, vehicle_type, application_user 
"""

sqlContext = SQLContext(spark)
df = sqlContext.sql(text).toPandas()

df.to_csv('ftr_user_profile_20jun10jul.csv', index=False)

df.head(10)


%%time
text = """
select category, metric_granularity, geo_level, activity_province, date_id, application, application_service, application_user, session_type, vehicle_type, ppn_dttm, 
count(0) cnt, count(distinct msisdn) dau, sum(total_volume) total_volume, sum(total_session) total_session
from `eureka`.`ftr_marketintel_user_profile`
where date_id between '20221201' and '20221231'
and category in ('eCommerce - Marketplace')
and geo_level in ('nation')
and metric_granularity='monthly'
group by category, metric_granularity, geo_level, activity_province, date_id, application, application_service, application_user, session_type, vehicle_type, ppn_dttm
"""

sqlContext = SQLContext(spark)
df = sqlContext.sql(text).toPandas()

df.to_csv('Userprofile_commercial2_202212.csv', index=False)

df.head(10)


%%sparksql
select count(1) from eureka.ftr_marketintel_profile where metric_granularity = 'Daily' and month_id = '202212'


%%sh
hdfs dfs -ls -h gs://ent-sandbox-01-prod-4859-datainsight/
