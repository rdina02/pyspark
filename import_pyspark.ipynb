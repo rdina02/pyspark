from pyspark import SparkContext
from pyspark.sql import SQLContext, HiveContext, SparkSession
from pyspark.sql import functions as F
from pyspark.sql.functions import when as when
from pyspark.sql.window import Window
import math
from pyspark.sql import Row
import numpy as np
#from math import sin, cos, sqrt, atan2, radians

from pyspark.sql.functions import atan2 as atan2
from pyspark.sql.functions import radians as radians
from pyspark.sql.functions import sin as sin
from pyspark.sql.functions import cos as cos
from pyspark.sql.functions import sqrt as sqrt

import os
import sys

import findspark
findspark.init('/opt/cloudera/parcels/SPARK2-2.4.0.cloudera2-1.cdh5.13.3.p0.1041012/lib/spark2/')

from os.path import abspath

from pyspark.sql import SparkSession
from pyspark.sql import Row

# warehouse_location points to the default location for managed databases and tables
warehouse_location = abspath('/user/hive/warehouse/')

spark = SparkSession \
    .builder \
    .appName("Dina_Report") \
    .config("spark.sql.warehouse.dir", warehouse_location) \
    .config("spark.port.maxRetries", 100) \
    .enableHiveSupport() \
    .getOrCreate()
